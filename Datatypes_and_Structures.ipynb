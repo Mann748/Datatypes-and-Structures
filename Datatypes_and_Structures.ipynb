{
  "nbformat": 4,
  "nbformat_minor": 0,
  "metadata": {
    "colab": {
      "provenance": []
    },
    "kernelspec": {
      "name": "python3",
      "display_name": "Python 3"
    },
    "language_info": {
      "name": "python"
    }
  },
  "cells": [
    {
      "cell_type": "markdown",
      "source": [
        "#Datatypes and Strustures\n"
      ],
      "metadata": {
        "id": "J1h4CpDNjW4s"
      }
    },
    {
      "cell_type": "markdown",
      "source": [
        "1. What are data structures, and why are they important?\n",
        " - Data structures are specialized formats for organizing, storing, and managing data in a computer so that it can be accessed and processed efficiently. They provide a way to handle large amounts of data in a structured manner, allowing programmers to perform operations like searching, sorting, inserting, deleting, and updating data effectively. Common data structures include arrays, linked lists, stacks, queues, trees, and hash tables, each suited to different types of tasks. The importance of data structures lies in their ability to improve the performance and scalability of software applications. By choosing the right data structure for a given problem, developers can significantly enhance the speed, efficiency, and clarity of their code. Data structures also form the foundation of many algorithms and are essential for solving complex computational problems, making them a core concept in computer science and software engineering.\n",
        "\n",
        "2.  Explain the difference between mutable and immutable data types with examples.\n",
        " - The key difference between mutable and immutable data types lies in whether their content can be changed after they are created. Mutable data types can be modified in place, meaning you can change their content without creating a new object. For example, in Python, lists are mutable—you can add, remove, or change elements in a list after it has been created. For instance, if you have a list `my_list = [1, 2, 3]`, you can change the second element with `my_list[1] = 4`, and the list becomes `[1, 4, 3]`. In contrast, immutable data types cannot be changed once they are created. Any operation that tries to alter their content results in a new object being created. A common example is a string in Python. If you have `my_str = \"hello\"` and you try to change the first character, you cannot do it directly—you need to create a new string like `my_str = \"j\" + my_str[1:]`, resulting in `\"jello\"`. Other examples of immutable types include tuples and integers. Understanding the difference is important for writing efficient and bug-free code, especially when dealing with data that is shared across functions or threads.\n",
        "\n",
        "3. What are the main differences between lists and tuples in Python?\n",
        " - In Python, the main difference between lists and tuples is that lists are mutable, meaning their elements can be changed, added, or removed, while tuples are immutable and cannot be modified after creation. Lists use square brackets (e.g., `[1, 2, 3]`), whereas tuples use parentheses (e.g., `(1, 2, 3)`). Because of their immutability, tuples are generally faster and more memory-efficient than lists, making them suitable for fixed collections of data. Lists offer more built-in methods for manipulation, such as `append()` and `remove()`, whereas tuples have limited methods. Tuples can also be used as keys in dictionaries, while lists cannot due to their mutability.\n",
        "\n",
        "4. Describe how dictionaries store data.\n",
        " - Dictionaries in Python store data as key-value pairs, where each unique key maps to a specific value. Internally, dictionaries use a data structure called a **hash table**, which allows for fast access, insertion, and deletion of values based on their keys. When a key-value pair is added, the key is passed through a hash function that determines where the value is stored in memory. This hashing process allows dictionaries to quickly locate the value associated with a given key, typically in constant time. Keys in a dictionary must be immutable (such as strings, numbers, or tuples), while values can be of any data type. This structure makes dictionaries ideal for scenarios where fast lookups and dynamic data storage are needed.\n",
        "\n",
        "5. Why might you use a set instead of a list in Python?\n",
        " - You might use a set instead of a list in Python when you need to store a collection of unique elements and do not care about maintaining order. Sets automatically remove duplicate values, making them ideal for tasks like eliminating duplicates from a dataset or checking membership efficiently. Unlike lists, sets are implemented using hash tables, which allow for faster lookup and membership testing, typically in constant time. However, since sets are unordered, they do not preserve the order of elements, and you cannot access items by index. Therefore, sets are best used when uniqueness and performance are more important than order.\n",
        "\n",
        "6. What is a string in Python, and how is it different from a list?\n",
        " - A string in Python is a sequence of characters used to represent text, enclosed in either single or double quotes, such as \"hello\" or 'world'. Strings are immutable, meaning their content cannot be changed after they are created. In contrast, a list is a collection of items that can include different data types, such as numbers, strings, or even other lists, and it is mutable, allowing elements to be added, removed, or changed. While both strings and lists support indexing and slicing, the key difference is that lists can be modified and can hold multiple data types, whereas strings are read-only sequences of characters. This makes strings suitable for fixed text data and lists more appropriate for collections of varying or dynamic data.\n",
        "\n",
        "7.  How do tuples ensure data integrity in Python?\n",
        " - Tuples ensure data integrity in Python by being immutable, which means once a tuple is created, its contents cannot be changed, added to, or removed. This immutability prevents accidental modification of data, making tuples a reliable way to store fixed collections of values that should remain constant throughout the program. Because their elements cannot be altered, tuples provide a safeguard against unintended side effects or bugs that might arise from changing data, especially when tuples are used to represent things like coordinates, configurations, or fixed records. This property also allows tuples to be used as keys in dictionaries or elements in sets, where immutability is required.\n",
        "\n",
        "8. What is a hash table, and how does it relate to dictionaries in Python?\n",
        " - A hash table is a data structure that stores key-value pairs and uses a hash function to compute an index into an array where the value can be found or stored. In Python, dictionaries are implemented using hash tables, which allows for very fast access, insertion, and deletion of elements based on their keys. When you add a key-value pair to a dictionary, the key is passed through a hash function that determines the position in memory where the value is stored. This enables dictionaries to perform lookups in nearly constant time, making them efficient for tasks that require quick data retrieval. The hash table structure also means that keys must be immutable so their hash value remains constant.\n",
        "\n",
        "9. Can lists contain different data types in Python?\n",
        " - Yes, lists in Python can contain different data types within the same list. This means you can store integers, strings, floats, objects, or even other lists all together in one list. For example, a single list can look like \\[1, \"apple\", 3.14, True, \\[2, 4]], mixing numbers, text, boolean values, and nested lists. This flexibility makes lists a powerful and versatile data structure for storing and managing heterogeneous collections of data, allowing programmers to group related but different types of information in one place.\n",
        "\n",
        "10. Explain why strings are immutable in Python?\n",
        " - Strings are immutable in Python to ensure safety, efficiency, and simplicity in managing text data. Because strings cannot be changed after they are created, they can be shared safely across different parts of a program without the risk of unexpected modifications, which helps prevent bugs. Immutability also allows Python to optimize memory usage and performance by reusing string objects instead of creating copies every time a string is assigned or passed around. Additionally, making strings immutable simplifies their implementation and allows them to be used as keys in dictionaries and elements in sets, which require immutable types. Overall, immutability provides consistency and reliability when working with text data in Python.\n",
        "\n",
        "11. What advantages do dictionaries offer over lists for certain tasks?\n",
        " - Dictionaries offer several advantages over lists for certain tasks, primarily because they store data as key-value pairs, allowing for fast and direct access to values based on unique keys. Unlike lists, where you must search through elements to find a specific item, dictionaries can retrieve data quickly using keys, often in constant time, which is especially useful for large datasets. This makes dictionaries ideal for tasks that require efficient lookups, such as counting occurrences, mapping relationships, or implementing associative arrays. Additionally, dictionaries allow for more meaningful organization of data by associating descriptive keys with values, improving code readability and maintainability compared to relying on list indices.\n",
        "\n",
        "12. Describe a scenario where using a tuple would be preferable over a list.\n",
        " - Using a tuple would be preferable over a list in a scenario where you need to store a fixed set of values that should not change throughout the program, such as the coordinates of a point in a 2D space or the RGB values of a color. Because tuples are immutable, they provide a guarantee that these values remain constant, preventing accidental modifications that could lead to bugs. Additionally, tuples can be used as keys in dictionaries or elements in sets, which is not possible with lists due to their mutability. This makes tuples especially useful when you want to represent fixed collections of related data that need to be hashable and safely used in contexts requiring immutability.\n",
        "\n",
        "13.  How do sets handle duplicate values in Python?\n",
        " - Sets in Python automatically handle duplicate values by storing only unique elements. When you add items to a set, any duplicates are ignored, so each value appears only once regardless of how many times it is added. This behavior is because sets are implemented using hash tables that track whether an element is already present, preventing repetition. As a result, sets are useful for eliminating duplicates from collections and for membership testing, where only the presence or absence of items matters, not their order or frequency.\n",
        "\n",
        "14.  How does the “in” keyword work differently for lists and dictionaries?\n",
        " - The \"in\" keyword works differently for lists and dictionaries in Python based on what it checks for. When used with a list, \"in\" checks whether a specific value is present anywhere in the list by scanning through its elements one by one, which can take longer if the list is large. In contrast, when used with a dictionary, \"in\" checks whether a given key exists in the dictionary, not the values. This check is much faster because dictionaries use hash tables, allowing direct access to keys without scanning through all items. So, \"in\" tests membership by value in lists but by key in dictionaries.\n",
        "\n",
        "15.  Can you modify the elements of a tuple? Explain why or why not?\n",
        " - No, you cannot modify the elements of a tuple because tuples are immutable in Python. Once a tuple is created, its content cannot be changed, which means you cannot add, remove, or alter any of its elements. This immutability is by design to provide data integrity and ensure that tuples remain constant throughout the program. If you need a collection of values that can be changed, you should use a list instead, which is mutable and allows modifications.\n",
        "\n",
        "16. What is a nested dictionary, and give an example of its use case?\n",
        " - A nested dictionary is a dictionary where the values are themselves dictionaries, allowing data to be organized in multiple layers or levels. This structure is useful for representing complex information that has related subcategories. For example, in a student database, a nested dictionary can store each student’s details as keys with values that are dictionaries containing their grades, attendance, and other personal information. This makes it easier to access and manage related data in a clear and organized way. Nested dictionaries are commonly used when working with structured data formats like JSON or when modeling real-world objects with multiple attributes.\n",
        "\n",
        "17.  Describe the time complexity of accessing elements in a dictionary.\n",
        " - Accessing elements in a dictionary typically has an average time complexity of constant time, or O(1), because dictionaries are implemented using hash tables. When you look up a value by its key, the key is passed through a hash function that calculates an index where the corresponding value is stored. This allows the dictionary to directly access the value without searching through all entries. However, in rare cases where many keys hash to the same index, known as collisions, the time complexity can degrade to O(n), where n is the number of items in the dictionary. Despite this, well-designed hash functions and resizing strategies keep access times very fast in practice.\n",
        "\n",
        "18. In what situations are lists preferred over dictionaries?\n",
        " - Lists are preferred over dictionaries when the order of elements matters or when you need to store a simple sequence of items that can be accessed by their position or index. They are ideal for situations where you need to maintain the order of insertion, perform operations like sorting, or iterate through elements in a specific sequence. Lists are also better suited when the collection contains homogeneous data and you don’t require fast lookups by keys. Because lists use less memory and have simpler structure compared to dictionaries, they are often chosen for tasks that involve ordered data storage, sequential processing, or when indexing by numeric positions is more natural.\n",
        "\n",
        "19. Why are dictionaries considered unordered, and how does that affect data retrieval?\n",
        " - Dictionaries in Python are considered unordered because they do not maintain the order of items based on insertion, meaning the elements are stored in a way optimized for fast access rather than in a sequence. This unordered nature arises from their underlying hash table implementation, where keys are hashed to determine where values are stored. As a result, when you iterate over a dictionary or view its items, the order may appear arbitrary and can change if the dictionary is modified. While this does not affect the ability to retrieve values by key quickly, it means you cannot rely on the order of elements when processing dictionaries, unlike lists where the position of each item is fixed. However, since Python 3.7, dictionaries preserve insertion order as an implementation detail, but this behavior should not be solely relied upon for program logic.\n",
        "\n",
        "20. Explain the difference between a list and a dictionary in terms of data retrieval.\n",
        " - The difference between a list and a dictionary in terms of data retrieval lies in how elements are accessed. In a list, data retrieval is based on the position or index of the element, so you access items by their numerical order, which means you need to know the index or search through the list to find a specific value. In contrast, a dictionary retrieves data using keys, allowing you to directly access the associated value without searching through all items. This key-based access in dictionaries is much faster for lookups, especially in large datasets, because it uses a hash table to find values in constant time, whereas searching in a list can take longer as it may require checking each element.\n",
        "\n"
      ],
      "metadata": {
        "id": "JTllBEWcjeZm"
      }
    },
    {
      "cell_type": "markdown",
      "source": [
        "#PRACTICAL QUESTIONS"
      ],
      "metadata": {
        "id": "RzgR7B7zp2J6"
      }
    },
    {
      "cell_type": "code",
      "source": [
        "#1.Write a code to create a string with your name and print it.\n",
        "\n",
        "name = \"Your Name\"\n",
        "print(name)\n"
      ],
      "metadata": {
        "colab": {
          "base_uri": "https://localhost:8080/"
        },
        "id": "Ot7iq_VbqHWy",
        "outputId": "7e2e87d3-1fb7-45b0-b142-433569f4138c"
      },
      "execution_count": null,
      "outputs": [
        {
          "output_type": "stream",
          "name": "stdout",
          "text": [
            "Your Name\n"
          ]
        }
      ]
    },
    {
      "cell_type": "code",
      "source": [
        "#2.Write a code to find the length of the string \"Hello World\".\n",
        "\n",
        "text = \"Hello World\"\n",
        "length = len(text)\n",
        "print(length)\n"
      ],
      "metadata": {
        "colab": {
          "base_uri": "https://localhost:8080/"
        },
        "id": "uFMfighTqWDt",
        "outputId": "5df3e6ae-9f0a-427b-d46b-d7fc6afb2e41"
      },
      "execution_count": null,
      "outputs": [
        {
          "output_type": "stream",
          "name": "stdout",
          "text": [
            "11\n"
          ]
        }
      ]
    },
    {
      "cell_type": "code",
      "source": [
        "#3.Write a code to slice the first 3 characters from the string \"Python Programming\".\n",
        "\n",
        "text = \"Python Programming\"\n",
        "first_three = text[:3]\n",
        "print(first_three)\n"
      ],
      "metadata": {
        "colab": {
          "base_uri": "https://localhost:8080/"
        },
        "id": "9A4LNFMuqhqQ",
        "outputId": "1f36ec53-b00d-4edd-a774-93dd0c352b04"
      },
      "execution_count": null,
      "outputs": [
        {
          "output_type": "stream",
          "name": "stdout",
          "text": [
            "Pyt\n"
          ]
        }
      ]
    },
    {
      "cell_type": "code",
      "source": [
        "#4.Write a code to convert the string \"hello\" to uppercase.\n",
        "\n",
        "text = \"hello\"\n",
        "uppercase_text = text.upper()\n",
        "print(uppercase_text)\n"
      ],
      "metadata": {
        "colab": {
          "base_uri": "https://localhost:8080/"
        },
        "id": "J6YDEpxrqtK7",
        "outputId": "e1f32029-61b1-48cd-d9a7-853300f29d65"
      },
      "execution_count": null,
      "outputs": [
        {
          "output_type": "stream",
          "name": "stdout",
          "text": [
            "HELLO\n"
          ]
        }
      ]
    },
    {
      "cell_type": "code",
      "source": [
        "#5.Write a code to replace the word \"apple\" with \"orange\" in the string \"I like apple\".\n",
        "\n",
        "text = \"I like apple\"\n",
        "new_text = text.replace(\"apple\", \"orange\")\n",
        "print(new_text)\n"
      ],
      "metadata": {
        "colab": {
          "base_uri": "https://localhost:8080/"
        },
        "id": "tQafu2fQq6hh",
        "outputId": "3ac2f5f3-46eb-43a9-aac9-92ba9d9f1f45"
      },
      "execution_count": null,
      "outputs": [
        {
          "output_type": "stream",
          "name": "stdout",
          "text": [
            "I like orange\n"
          ]
        }
      ]
    },
    {
      "cell_type": "code",
      "source": [
        "#6.Write a code to create a list with numbers 1 to 5 and print it.\n",
        "\n",
        "numbers = [1, 2, 3, 4, 5]\n",
        "print(numbers)\n"
      ],
      "metadata": {
        "colab": {
          "base_uri": "https://localhost:8080/"
        },
        "id": "gunD2upfrIVz",
        "outputId": "2c3a29e4-ac83-4189-d60c-a4f3474d8e73"
      },
      "execution_count": null,
      "outputs": [
        {
          "output_type": "stream",
          "name": "stdout",
          "text": [
            "[1, 2, 3, 4, 5]\n"
          ]
        }
      ]
    },
    {
      "cell_type": "code",
      "source": [
        "#7. Write a code to append the number 10 to the list [1, 2, 3, 4].\n",
        "\n",
        "numbers = [1, 2, 3, 4]\n",
        "numbers.append(10)\n",
        "print(numbers)\n"
      ],
      "metadata": {
        "colab": {
          "base_uri": "https://localhost:8080/"
        },
        "id": "60dmYMqarSNz",
        "outputId": "96431bd0-209f-4e4f-cae4-01077766791b"
      },
      "execution_count": null,
      "outputs": [
        {
          "output_type": "stream",
          "name": "stdout",
          "text": [
            "[1, 2, 3, 4, 10]\n"
          ]
        }
      ]
    },
    {
      "cell_type": "code",
      "source": [
        "#8.Write a code to remove the number 3 from the list [1, 2, 3, 4, 5].\n",
        "\n",
        "numbers = [1, 2, 3, 4, 5]\n",
        "numbers.remove(3)\n",
        "print(numbers)\n"
      ],
      "metadata": {
        "colab": {
          "base_uri": "https://localhost:8080/"
        },
        "id": "AaI7XAzmrb4k",
        "outputId": "4605822a-ef21-4799-a1ee-5cc079b39c2f"
      },
      "execution_count": null,
      "outputs": [
        {
          "output_type": "stream",
          "name": "stdout",
          "text": [
            "[1, 2, 4, 5]\n"
          ]
        }
      ]
    },
    {
      "cell_type": "code",
      "source": [
        "#9.Write a code to access the second element in the list ['a', 'b', 'c', 'd'].\n",
        "\n",
        "letters = ['a', 'b', 'c', 'd']\n",
        "second_element = letters[1]\n",
        "print(second_element)\n"
      ],
      "metadata": {
        "colab": {
          "base_uri": "https://localhost:8080/"
        },
        "id": "ZJV26a9irmOU",
        "outputId": "d8b028b3-1c87-421a-90ac-ca1e2574a0f2"
      },
      "execution_count": null,
      "outputs": [
        {
          "output_type": "stream",
          "name": "stdout",
          "text": [
            "b\n"
          ]
        }
      ]
    },
    {
      "cell_type": "code",
      "source": [
        "#10. Write a code to reverse the list [10, 20, 30, 40, 50].\n",
        "\n",
        "numbers = [10, 20, 30, 40, 50]\n",
        "numbers.reverse()\n",
        "print(numbers)\n"
      ],
      "metadata": {
        "colab": {
          "base_uri": "https://localhost:8080/"
        },
        "id": "6O87Ukbzrvra",
        "outputId": "80030e7b-a70f-4e7a-86d7-774ad353939c"
      },
      "execution_count": null,
      "outputs": [
        {
          "output_type": "stream",
          "name": "stdout",
          "text": [
            "[50, 40, 30, 20, 10]\n"
          ]
        }
      ]
    },
    {
      "cell_type": "code",
      "source": [
        "#11. Write a code to create a tuple with the elements 100, 200, 300 and print it.\n",
        "\n",
        "my_tuple = (100, 200, 300)\n",
        "print(my_tuple)\n"
      ],
      "metadata": {
        "colab": {
          "base_uri": "https://localhost:8080/"
        },
        "id": "xGbp99xWr_w0",
        "outputId": "0f57720d-da13-4a2d-fc58-cf971fb403c2"
      },
      "execution_count": null,
      "outputs": [
        {
          "output_type": "stream",
          "name": "stdout",
          "text": [
            "(100, 200, 300)\n"
          ]
        }
      ]
    },
    {
      "cell_type": "code",
      "source": [
        "#12. Write a code to access the second-to-last element of the tuple ('red', 'green', 'blue', 'yellow').\n",
        "\n",
        "colors = ('red', 'green', 'blue', 'yellow')\n",
        "second_to_last = colors[-2]\n",
        "print(second_to_last)\n"
      ],
      "metadata": {
        "colab": {
          "base_uri": "https://localhost:8080/"
        },
        "id": "tCj7WkMcsI4W",
        "outputId": "63067e22-68d1-4ad6-a8bb-91e54340b032"
      },
      "execution_count": null,
      "outputs": [
        {
          "output_type": "stream",
          "name": "stdout",
          "text": [
            "blue\n"
          ]
        }
      ]
    },
    {
      "cell_type": "code",
      "source": [
        "#13.Write a code to find the minimum number in the tuple (10, 20, 5, 15).\n",
        "\n",
        "numbers = (10, 20, 5, 15)\n",
        "minimum = min(numbers)\n",
        "print(minimum)\n"
      ],
      "metadata": {
        "colab": {
          "base_uri": "https://localhost:8080/"
        },
        "id": "dj4U-pBGsSWM",
        "outputId": "7e8cfe7a-9f1b-43b3-c7d8-44bbe5d70add"
      },
      "execution_count": null,
      "outputs": [
        {
          "output_type": "stream",
          "name": "stdout",
          "text": [
            "5\n"
          ]
        }
      ]
    },
    {
      "cell_type": "code",
      "source": [
        "#14.Write a code to find the index of the element \"cat\" in the tuple ('dog', 'cat', 'rabbit').\n",
        "\n",
        "animals = ('dog', 'cat', 'rabbit')\n",
        "index_of_cat = animals.index('cat')\n",
        "print(index_of_cat)\n"
      ],
      "metadata": {
        "id": "0RmdLA8ass3L",
        "colab": {
          "base_uri": "https://localhost:8080/"
        },
        "outputId": "5ff947c5-bbbf-4a7e-ec42-d4f3d378feae"
      },
      "execution_count": 1,
      "outputs": [
        {
          "output_type": "stream",
          "name": "stdout",
          "text": [
            "1\n"
          ]
        }
      ]
    },
    {
      "cell_type": "code",
      "source": [
        "#15. Write a code to create a tuple containing three different fruits and check if \"kiwi\" is in it.\n",
        "\n",
        "fruits = ('apple', 'banana', 'orange')\n",
        "if 'kiwi' in fruits:\n",
        "    print(\"Kiwi is in the tuple.\")\n",
        "else:\n",
        "    print(\"Kiwi is not in the tuple.\")\n"
      ],
      "metadata": {
        "colab": {
          "base_uri": "https://localhost:8080/"
        },
        "id": "18ml3wBfnEky",
        "outputId": "b2c7248b-fd06-4302-a74c-20ef4047f1b6"
      },
      "execution_count": 2,
      "outputs": [
        {
          "output_type": "stream",
          "name": "stdout",
          "text": [
            "Kiwi is not in the tuple.\n"
          ]
        }
      ]
    },
    {
      "cell_type": "code",
      "source": [
        "#16.Write a code to create a set with the elements 'a', 'b', 'c' and print it.\n",
        "\n",
        "my_set = {'a', 'b', 'c'}\n",
        "print(my_set)\n"
      ],
      "metadata": {
        "colab": {
          "base_uri": "https://localhost:8080/"
        },
        "id": "JI3C9R8hnOcm",
        "outputId": "818395f1-9d3a-46b7-9954-59ccdb113239"
      },
      "execution_count": 3,
      "outputs": [
        {
          "output_type": "stream",
          "name": "stdout",
          "text": [
            "{'a', 'b', 'c'}\n"
          ]
        }
      ]
    },
    {
      "cell_type": "code",
      "source": [
        "#17. Write a code to clear all elements from the set {1, 2, 3, 4, 5}.\n",
        "\n",
        "my_set = {1, 2, 3, 4, 5}\n",
        "my_set.clear()\n",
        "print(my_set)\n"
      ],
      "metadata": {
        "colab": {
          "base_uri": "https://localhost:8080/"
        },
        "id": "4IsEnNrTnXgQ",
        "outputId": "88bc3b7c-5a1b-4641-915b-4e9e20fa7ac8"
      },
      "execution_count": 4,
      "outputs": [
        {
          "output_type": "stream",
          "name": "stdout",
          "text": [
            "set()\n"
          ]
        }
      ]
    },
    {
      "cell_type": "code",
      "source": [
        "#18. Write a code to remove the element 4 from the set {1, 2, 3, 4}.\n",
        "\n",
        "my_set = {1, 2, 3, 4}\n",
        "my_set.remove(4)\n",
        "print(my_set)\n"
      ],
      "metadata": {
        "colab": {
          "base_uri": "https://localhost:8080/"
        },
        "id": "UmfEHe2anlqY",
        "outputId": "4f077cf6-b1b3-4d01-9ee1-d9d23e607443"
      },
      "execution_count": 5,
      "outputs": [
        {
          "output_type": "stream",
          "name": "stdout",
          "text": [
            "{1, 2, 3}\n"
          ]
        }
      ]
    },
    {
      "cell_type": "code",
      "source": [
        "#19. Write a code to find the union of two sets {1, 2, 3} and {3, 4, 5}.\n",
        "\n",
        "set1 = {1, 2, 3}\n",
        "set2 = {3, 4, 5}\n",
        "union_set = set1.union(set2)\n",
        "print(union_set)\n"
      ],
      "metadata": {
        "colab": {
          "base_uri": "https://localhost:8080/"
        },
        "id": "a0lJ--1ynv8K",
        "outputId": "8371cb3f-2cf7-41d6-8244-b1eda22b6d42"
      },
      "execution_count": 6,
      "outputs": [
        {
          "output_type": "stream",
          "name": "stdout",
          "text": [
            "{1, 2, 3, 4, 5}\n"
          ]
        }
      ]
    },
    {
      "cell_type": "code",
      "source": [
        "#20. Write a code to find the intersection of two sets {1, 2, 3} and {2, 3, 4}.\n",
        "\n",
        "set1 = {1, 2, 3}\n",
        "set2 = {2, 3, 4}\n",
        "intersection_set = set1.intersection(set2)\n",
        "print(intersection_set)\n"
      ],
      "metadata": {
        "colab": {
          "base_uri": "https://localhost:8080/"
        },
        "id": "q4dUwR0xn7Zn",
        "outputId": "9ae56aac-0a07-48b0-92e8-dc24f2747dda"
      },
      "execution_count": 7,
      "outputs": [
        {
          "output_type": "stream",
          "name": "stdout",
          "text": [
            "{2, 3}\n"
          ]
        }
      ]
    },
    {
      "cell_type": "code",
      "source": [
        "#21. Write a code to create a dictionary with the keys \"name\", \"age\", and \"city\", and print it.\n",
        "\n",
        "person = {\n",
        "    \"name\": \"Alice\",\n",
        "    \"age\": 30,\n",
        "    \"city\": \"New York\"\n",
        "}\n",
        "print(person)\n"
      ],
      "metadata": {
        "colab": {
          "base_uri": "https://localhost:8080/"
        },
        "id": "iKA7eFoVoQBv",
        "outputId": "596ac61f-4d9f-4d60-d445-4fc459f4a719"
      },
      "execution_count": 8,
      "outputs": [
        {
          "output_type": "stream",
          "name": "stdout",
          "text": [
            "{'name': 'Alice', 'age': 30, 'city': 'New York'}\n"
          ]
        }
      ]
    },
    {
      "cell_type": "code",
      "source": [
        "#22.Write a code to add a new key-value pair \"country\": \"USA\" to the dictionary {'name': 'John', 'age': 25}.\n",
        "\n",
        "person = {'name': 'John', 'age': 25}\n",
        "person['country'] = 'USA'\n",
        "print(person)\n"
      ],
      "metadata": {
        "colab": {
          "base_uri": "https://localhost:8080/"
        },
        "id": "vz03xs8hocSR",
        "outputId": "4c14aca7-0b5b-4aba-a7cf-5f637eae27f0"
      },
      "execution_count": 9,
      "outputs": [
        {
          "output_type": "stream",
          "name": "stdout",
          "text": [
            "{'name': 'John', 'age': 25, 'country': 'USA'}\n"
          ]
        }
      ]
    },
    {
      "cell_type": "code",
      "source": [
        "#23.Write a code to access the value associated with the key \"name\" in the dictionary {'name': 'Alice', 'age': 30}.\n",
        "\n",
        "person = {'name': 'Alice', 'age': 30}\n",
        "name_value = person['name']\n",
        "print(name_value)\n"
      ],
      "metadata": {
        "colab": {
          "base_uri": "https://localhost:8080/"
        },
        "id": "aRQh5kJ1olNc",
        "outputId": "b533c907-81a8-4b1c-aac3-2f86c93954f6"
      },
      "execution_count": 10,
      "outputs": [
        {
          "output_type": "stream",
          "name": "stdout",
          "text": [
            "Alice\n"
          ]
        }
      ]
    },
    {
      "cell_type": "code",
      "source": [
        "#24.Write a code to remove the key \"age\" from the dictionary {'name': 'Bob', 'age': 22, 'city': 'New York'}.\n",
        "\n",
        "person = {'name': 'Bob', 'age': 22, 'city': 'New York'}\n",
        "person.pop('age')\n",
        "print(person)\n"
      ],
      "metadata": {
        "colab": {
          "base_uri": "https://localhost:8080/"
        },
        "id": "L2_JMm5DowP8",
        "outputId": "656d95af-8c33-42da-e2c8-322f7f532835"
      },
      "execution_count": 11,
      "outputs": [
        {
          "output_type": "stream",
          "name": "stdout",
          "text": [
            "{'name': 'Bob', 'city': 'New York'}\n"
          ]
        }
      ]
    },
    {
      "cell_type": "code",
      "source": [
        "#25.Write a code to check if the key \"city\" exists in the dictionary {'name': 'Alice', 'city': 'Paris'}.\n",
        "\n",
        "person = {'name': 'Alice', 'city': 'Paris'}\n",
        "if 'city' in person:\n",
        "    print(\"Key 'city' exists in the dictionary.\")\n",
        "else:\n",
        "    print(\"Key 'city' does not exist in the dictionary.\")\n"
      ],
      "metadata": {
        "colab": {
          "base_uri": "https://localhost:8080/"
        },
        "id": "n73e1qmGo54m",
        "outputId": "60b3917d-7736-4b45-fbe2-0493487fc063"
      },
      "execution_count": 12,
      "outputs": [
        {
          "output_type": "stream",
          "name": "stdout",
          "text": [
            "Key 'city' exists in the dictionary.\n"
          ]
        }
      ]
    },
    {
      "cell_type": "code",
      "source": [
        "#26. Write a code to create a list, a tuple, and a dictionary, and print them all.\n",
        "\n",
        "my_list = [1, 2, 3]\n",
        "my_tuple = ('a', 'b', 'c')\n",
        "my_dict = {'name': 'John', 'age': 25}\n",
        "\n",
        "print(my_list)\n",
        "print(my_tuple)\n",
        "print(my_dict)\n"
      ],
      "metadata": {
        "colab": {
          "base_uri": "https://localhost:8080/"
        },
        "id": "-3EoR-mapFM3",
        "outputId": "cd4d97fd-9ef5-48ef-b6dd-be3835b0a6ee"
      },
      "execution_count": 13,
      "outputs": [
        {
          "output_type": "stream",
          "name": "stdout",
          "text": [
            "[1, 2, 3]\n",
            "('a', 'b', 'c')\n",
            "{'name': 'John', 'age': 25}\n"
          ]
        }
      ]
    },
    {
      "cell_type": "code",
      "source": [
        "#27. Write a code to create a list of 5 random numbers between 1 and 100, sort it in ascending order, and print the result.(replaced)\n",
        "\n",
        "import random\n",
        "\n",
        "random_numbers = [random.randint(1, 100) for _ in range(5)]\n",
        "random_numbers.sort()\n",
        "print(random_numbers)\n"
      ],
      "metadata": {
        "colab": {
          "base_uri": "https://localhost:8080/"
        },
        "id": "5URh_ER6pYYM",
        "outputId": "153f4d64-67fd-4b68-bc42-3b9aca024e16"
      },
      "execution_count": 15,
      "outputs": [
        {
          "output_type": "stream",
          "name": "stdout",
          "text": [
            "[42, 43, 44, 68, 69]\n"
          ]
        }
      ]
    },
    {
      "cell_type": "code",
      "source": [
        "#28.Write a code to create a list with strings and print the element at the third index.\n",
        "\n",
        "my_list = ['apple', 'banana', 'cherry', 'date', 'elderberry']\n",
        "print(my_list[3])\n"
      ],
      "metadata": {
        "colab": {
          "base_uri": "https://localhost:8080/"
        },
        "id": "jh4plgK6ppdm",
        "outputId": "2c11c29c-f466-4530-8fc5-aefc46e48a98"
      },
      "execution_count": 16,
      "outputs": [
        {
          "output_type": "stream",
          "name": "stdout",
          "text": [
            "date\n"
          ]
        }
      ]
    },
    {
      "cell_type": "code",
      "source": [
        "#29. Write a code to combine two dictionaries into one and print the result.\n",
        "\n",
        "dict1 = {'a': 1, 'b': 2}\n",
        "dict2 = {'c': 3, 'd': 4}\n",
        "\n",
        "combined_dict = {**dict1, **dict2}\n",
        "print(combined_dict)\n"
      ],
      "metadata": {
        "colab": {
          "base_uri": "https://localhost:8080/"
        },
        "id": "XW1zohTnpy7r",
        "outputId": "f3c859c6-50ca-4da7-b28f-5ce552182b1d"
      },
      "execution_count": 17,
      "outputs": [
        {
          "output_type": "stream",
          "name": "stdout",
          "text": [
            "{'a': 1, 'b': 2, 'c': 3, 'd': 4}\n"
          ]
        }
      ]
    },
    {
      "cell_type": "code",
      "source": [
        "#30.Write a code to convert a list of strings into a set.\n",
        "\n",
        "my_list = ['apple', 'banana', 'apple', 'cherry']\n",
        "my_set = set(my_list)\n",
        "print(my_set)\n"
      ],
      "metadata": {
        "colab": {
          "base_uri": "https://localhost:8080/"
        },
        "id": "YZc2pgnhqJKA",
        "outputId": "b7beec49-acdb-43a4-d932-8d2c1c946cb9"
      },
      "execution_count": 18,
      "outputs": [
        {
          "output_type": "stream",
          "name": "stdout",
          "text": [
            "{'cherry', 'apple', 'banana'}\n"
          ]
        }
      ]
    }
  ]
}